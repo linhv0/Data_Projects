{
  "nbformat": 4,
  "nbformat_minor": 0,
  "metadata": {
    "colab": {
      "provenance": []
    },
    "kernelspec": {
      "name": "python3",
      "display_name": "Python 3"
    },
    "language_info": {
      "name": "python"
    }
  },
  "cells": [
    {
      "cell_type": "code",
      "execution_count": null,
      "metadata": {
        "colab": {
          "base_uri": "https://localhost:8080/"
        },
        "id": "DYDcW3UB4YOJ",
        "outputId": "35f6d9df-886e-4a90-f628-205005588fd4"
      },
      "outputs": [
        {
          "output_type": "stream",
          "name": "stdout",
          "text": [
            "\tMy name is Celine,\n",
            "\n",
            "\tI live in Toronto.\n",
            "\n",
            "I LOOOVE singing.\n"
          ]
        }
      ],
      "source": [
        "text_part_one = '\\tMy name is Celine,\\n'\n",
        "text_part_two = '\\tI live in Toronto.\\n'\n",
        "text_part_three =  'I LOOOVE singing.'\n",
        "\n",
        "print(text_part_one)\n",
        "print(text_part_two)\n",
        "print(text_part_three)"
      ]
    },
    {
      "cell_type": "code",
      "source": [
        "text_part_one = text_part_one.strip()\n",
        "text_part_two = text_part_two.strip()\n",
        "\n",
        "print(text_part_one)\n",
        "print(text_part_two)"
      ],
      "metadata": {
        "colab": {
          "base_uri": "https://localhost:8080/"
        },
        "id": "tt3zwXOS4m6S",
        "outputId": "a757499a-2fae-4213-a8df-4dee5865403e"
      },
      "execution_count": null,
      "outputs": [
        {
          "output_type": "stream",
          "name": "stdout",
          "text": [
            "My name is Celine,\n",
            "I live in Toronto.\n"
          ]
        }
      ]
    },
    {
      "cell_type": "code",
      "source": [
        "text = text_part_one + ' ' + text_part_two + ' ' + text_part_three\n",
        "print(text)"
      ],
      "metadata": {
        "colab": {
          "base_uri": "https://localhost:8080/"
        },
        "id": "1_KdK61i45x-",
        "outputId": "e0d81a6b-12ac-4942-8074-cb417d6cd9db"
      },
      "execution_count": null,
      "outputs": [
        {
          "output_type": "stream",
          "name": "stdout",
          "text": [
            "My name is Celine, I live in Toronto. I LOOOVE singing.\n"
          ]
        }
      ]
    },
    {
      "cell_type": "code",
      "source": [
        "print(text.startswith('My name') and text.endswith('singing.'))"
      ],
      "metadata": {
        "colab": {
          "base_uri": "https://localhost:8080/"
        },
        "id": "wiMFGhKR5R-2",
        "outputId": "0d3164cf-0523-4df8-cf76-590430b52886"
      },
      "execution_count": null,
      "outputs": [
        {
          "output_type": "stream",
          "name": "stdout",
          "text": [
            "True\n"
          ]
        }
      ]
    },
    {
      "cell_type": "code",
      "source": [
        "print('I live in Toronto' in text)"
      ],
      "metadata": {
        "colab": {
          "base_uri": "https://localhost:8080/"
        },
        "id": "jbjJPlR35pyK",
        "outputId": "18c7927b-7e84-4264-a5e2-e98512400cb3"
      },
      "execution_count": null,
      "outputs": [
        {
          "output_type": "stream",
          "name": "stdout",
          "text": [
            "True\n"
          ]
        }
      ]
    },
    {
      "cell_type": "code",
      "source": [
        "# Let's continue the cleaning of this text to keep the most useful information\n",
        "# that it contains.\n",
        "\n",
        "# Let us create a function 'clean_text()' that will clean the text for you. The\n",
        "# argument of the function will be the text to clean.\n",
        "def clean_text(x):\n",
        "  x = x.lower()\n",
        "  x = x.replace(',','')\n",
        "  x = x.replace('.','')\n",
        "  return x\n",
        "\n",
        "text = clean_text(text)\n",
        "print(text)"
      ],
      "metadata": {
        "colab": {
          "base_uri": "https://localhost:8080/"
        },
        "id": "XUyK5Oph5zCl",
        "outputId": "ce8edc5d-2b45-446e-93dc-e06750a9c903"
      },
      "execution_count": null,
      "outputs": [
        {
          "output_type": "stream",
          "name": "stdout",
          "text": [
            "my name is celine i live in toronto i looove singing\n"
          ]
        }
      ]
    },
    {
      "cell_type": "code",
      "source": [
        "print(text.count('name'))\n",
        "print(text.count('live'))\n",
        "print(text.count('love'))"
      ],
      "metadata": {
        "colab": {
          "base_uri": "https://localhost:8080/"
        },
        "id": "-1kO1HzX7H9c",
        "outputId": "2e4bdf59-2097-46e4-c7f2-dd217f729878"
      },
      "execution_count": null,
      "outputs": [
        {
          "output_type": "stream",
          "name": "stdout",
          "text": [
            "1\n",
            "1\n",
            "0\n"
          ]
        }
      ]
    },
    {
      "cell_type": "code",
      "source": [
        "text = text.replace('looove', 'love')\n",
        "print(text)"
      ],
      "metadata": {
        "colab": {
          "base_uri": "https://localhost:8080/"
        },
        "id": "HohvLo4dAjjR",
        "outputId": "80715ed2-185a-4798-fad8-e1aed10217da"
      },
      "execution_count": null,
      "outputs": [
        {
          "output_type": "stream",
          "name": "stdout",
          "text": [
            "my name is celine i live in toronto i love singing\n"
          ]
        }
      ]
    },
    {
      "cell_type": "code",
      "source": [
        "import re\n",
        "def clean_stopwords(y):\n",
        " # remove 'my '. Be careful: the text starts with 'my' and is followed by a whitespace ('\\s')\n",
        " y = re.sub('my\\s','',y)\n",
        " y = re.sub('is\\s','',y)\n",
        " y = re.sub('i\\s','', y)\n",
        " y = re.sub('in\\s', '',y)\n",
        " return y\n",
        "\n",
        "text = clean_stopwords(text)\n",
        "print(text)\n"
      ],
      "metadata": {
        "colab": {
          "base_uri": "https://localhost:8080/"
        },
        "id": "3yN8lf_xBGD3",
        "outputId": "009f1e82-783a-46a8-d34b-87d8098432e3"
      },
      "execution_count": null,
      "outputs": [
        {
          "output_type": "stream",
          "name": "stdout",
          "text": [
            "My name Celine, I live Toronto. I LOOOVE singing. My phone number 111-111-1111.\n"
          ]
        }
      ]
    },
    {
      "cell_type": "code",
      "source": [
        "\n",
        "def extract_info(g):\n",
        "  global name, residence, hobby\n",
        "  token = g.split(' ')\n",
        "\n",
        "  # Store index of 'name', 'live', 'love' as 'ind_name', 'ind_live' and 'ind_love', respectively.\n",
        "\n",
        "  ind_name = token.index('name')\n",
        "  ind_live = token.index('live')\n",
        "  ind_love = token.index('love')\n",
        "\n",
        "  # We know that 'celine', 'toronto' and 'singing' are right after 'name', 'live' and 'love'.\n",
        "  # You have just stored the indices of 'name', 'live' and 'love'.\n",
        "\n",
        "  name = token[ind_name + 1]\n",
        "  residence = token[ind_live + 1]\n",
        "  hobby = token[ind_love + 1]\n",
        "\n",
        "  print('Name:', name)\n",
        "  print('Residence:', residence)\n",
        "  print('Hobby:', hobby)\n",
        "\n",
        "print(extract_info(text))\n",
        "\n",
        "\n",
        "\n"
      ],
      "metadata": {
        "colab": {
          "base_uri": "https://localhost:8080/"
        },
        "id": "sooK3KvyDiwb",
        "outputId": "fe0de2b4-62df-484b-bea4-c546625128e6"
      },
      "execution_count": null,
      "outputs": [
        {
          "output_type": "stream",
          "name": "stdout",
          "text": [
            "Name: celine\n",
            "Residence: toronto\n",
            "Hobby: singing\n",
            "None\n"
          ]
        }
      ]
    },
    {
      "cell_type": "code",
      "source": [
        "# Use Pandas to create the DataFrame.\n",
        "import pandas as pd\n",
        "\n",
        "df = pd.DataFrame({'Name': [name], 'Residence': [residence], 'Hobby': [hobby]})\n",
        "df"
      ],
      "metadata": {
        "colab": {
          "base_uri": "https://localhost:8080/",
          "height": 89
        },
        "id": "99yMTRruRnQd",
        "outputId": "740ba7a1-0cc1-44cd-9540-8838fd8b377b"
      },
      "execution_count": null,
      "outputs": [
        {
          "output_type": "execute_result",
          "data": {
            "text/plain": [
              "     Name Residence    Hobby\n",
              "0  celine   toronto  singing"
            ],
            "text/html": [
              "\n",
              "  <div id=\"df-767fce78-654b-4be7-9415-5e0a796fc595\" class=\"colab-df-container\">\n",
              "    <div>\n",
              "<style scoped>\n",
              "    .dataframe tbody tr th:only-of-type {\n",
              "        vertical-align: middle;\n",
              "    }\n",
              "\n",
              "    .dataframe tbody tr th {\n",
              "        vertical-align: top;\n",
              "    }\n",
              "\n",
              "    .dataframe thead th {\n",
              "        text-align: right;\n",
              "    }\n",
              "</style>\n",
              "<table border=\"1\" class=\"dataframe\">\n",
              "  <thead>\n",
              "    <tr style=\"text-align: right;\">\n",
              "      <th></th>\n",
              "      <th>Name</th>\n",
              "      <th>Residence</th>\n",
              "      <th>Hobby</th>\n",
              "    </tr>\n",
              "  </thead>\n",
              "  <tbody>\n",
              "    <tr>\n",
              "      <th>0</th>\n",
              "      <td>celine</td>\n",
              "      <td>toronto</td>\n",
              "      <td>singing</td>\n",
              "    </tr>\n",
              "  </tbody>\n",
              "</table>\n",
              "</div>\n",
              "    <div class=\"colab-df-buttons\">\n",
              "\n",
              "  <div class=\"colab-df-container\">\n",
              "    <button class=\"colab-df-convert\" onclick=\"convertToInteractive('df-767fce78-654b-4be7-9415-5e0a796fc595')\"\n",
              "            title=\"Convert this dataframe to an interactive table.\"\n",
              "            style=\"display:none;\">\n",
              "\n",
              "  <svg xmlns=\"http://www.w3.org/2000/svg\" height=\"24px\" viewBox=\"0 -960 960 960\">\n",
              "    <path d=\"M120-120v-720h720v720H120Zm60-500h600v-160H180v160Zm220 220h160v-160H400v160Zm0 220h160v-160H400v160ZM180-400h160v-160H180v160Zm440 0h160v-160H620v160ZM180-180h160v-160H180v160Zm440 0h160v-160H620v160Z\"/>\n",
              "  </svg>\n",
              "    </button>\n",
              "\n",
              "  <style>\n",
              "    .colab-df-container {\n",
              "      display:flex;\n",
              "      gap: 12px;\n",
              "    }\n",
              "\n",
              "    .colab-df-convert {\n",
              "      background-color: #E8F0FE;\n",
              "      border: none;\n",
              "      border-radius: 50%;\n",
              "      cursor: pointer;\n",
              "      display: none;\n",
              "      fill: #1967D2;\n",
              "      height: 32px;\n",
              "      padding: 0 0 0 0;\n",
              "      width: 32px;\n",
              "    }\n",
              "\n",
              "    .colab-df-convert:hover {\n",
              "      background-color: #E2EBFA;\n",
              "      box-shadow: 0px 1px 2px rgba(60, 64, 67, 0.3), 0px 1px 3px 1px rgba(60, 64, 67, 0.15);\n",
              "      fill: #174EA6;\n",
              "    }\n",
              "\n",
              "    .colab-df-buttons div {\n",
              "      margin-bottom: 4px;\n",
              "    }\n",
              "\n",
              "    [theme=dark] .colab-df-convert {\n",
              "      background-color: #3B4455;\n",
              "      fill: #D2E3FC;\n",
              "    }\n",
              "\n",
              "    [theme=dark] .colab-df-convert:hover {\n",
              "      background-color: #434B5C;\n",
              "      box-shadow: 0px 1px 3px 1px rgba(0, 0, 0, 0.15);\n",
              "      filter: drop-shadow(0px 1px 2px rgba(0, 0, 0, 0.3));\n",
              "      fill: #FFFFFF;\n",
              "    }\n",
              "  </style>\n",
              "\n",
              "    <script>\n",
              "      const buttonEl =\n",
              "        document.querySelector('#df-767fce78-654b-4be7-9415-5e0a796fc595 button.colab-df-convert');\n",
              "      buttonEl.style.display =\n",
              "        google.colab.kernel.accessAllowed ? 'block' : 'none';\n",
              "\n",
              "      async function convertToInteractive(key) {\n",
              "        const element = document.querySelector('#df-767fce78-654b-4be7-9415-5e0a796fc595');\n",
              "        const dataTable =\n",
              "          await google.colab.kernel.invokeFunction('convertToInteractive',\n",
              "                                                    [key], {});\n",
              "        if (!dataTable) return;\n",
              "\n",
              "        const docLinkHtml = 'Like what you see? Visit the ' +\n",
              "          '<a target=\"_blank\" href=https://colab.research.google.com/notebooks/data_table.ipynb>data table notebook</a>'\n",
              "          + ' to learn more about interactive tables.';\n",
              "        element.innerHTML = '';\n",
              "        dataTable['output_type'] = 'display_data';\n",
              "        await google.colab.output.renderOutput(dataTable, element);\n",
              "        const docLink = document.createElement('div');\n",
              "        docLink.innerHTML = docLinkHtml;\n",
              "        element.appendChild(docLink);\n",
              "      }\n",
              "    </script>\n",
              "  </div>\n",
              "\n",
              "\n",
              "  <div id=\"id_2f1df43f-a4c5-412e-a3ab-a05c1610f04a\">\n",
              "    <style>\n",
              "      .colab-df-generate {\n",
              "        background-color: #E8F0FE;\n",
              "        border: none;\n",
              "        border-radius: 50%;\n",
              "        cursor: pointer;\n",
              "        display: none;\n",
              "        fill: #1967D2;\n",
              "        height: 32px;\n",
              "        padding: 0 0 0 0;\n",
              "        width: 32px;\n",
              "      }\n",
              "\n",
              "      .colab-df-generate:hover {\n",
              "        background-color: #E2EBFA;\n",
              "        box-shadow: 0px 1px 2px rgba(60, 64, 67, 0.3), 0px 1px 3px 1px rgba(60, 64, 67, 0.15);\n",
              "        fill: #174EA6;\n",
              "      }\n",
              "\n",
              "      [theme=dark] .colab-df-generate {\n",
              "        background-color: #3B4455;\n",
              "        fill: #D2E3FC;\n",
              "      }\n",
              "\n",
              "      [theme=dark] .colab-df-generate:hover {\n",
              "        background-color: #434B5C;\n",
              "        box-shadow: 0px 1px 3px 1px rgba(0, 0, 0, 0.15);\n",
              "        filter: drop-shadow(0px 1px 2px rgba(0, 0, 0, 0.3));\n",
              "        fill: #FFFFFF;\n",
              "      }\n",
              "    </style>\n",
              "    <button class=\"colab-df-generate\" onclick=\"generateWithVariable('df')\"\n",
              "            title=\"Generate code using this dataframe.\"\n",
              "            style=\"display:none;\">\n",
              "\n",
              "  <svg xmlns=\"http://www.w3.org/2000/svg\" height=\"24px\"viewBox=\"0 0 24 24\"\n",
              "       width=\"24px\">\n",
              "    <path d=\"M7,19H8.4L18.45,9,17,7.55,7,17.6ZM5,21V16.75L18.45,3.32a2,2,0,0,1,2.83,0l1.4,1.43a1.91,1.91,0,0,1,.58,1.4,1.91,1.91,0,0,1-.58,1.4L9.25,21ZM18.45,9,17,7.55Zm-12,3A5.31,5.31,0,0,0,4.9,8.1,5.31,5.31,0,0,0,1,6.5,5.31,5.31,0,0,0,4.9,4.9,5.31,5.31,0,0,0,6.5,1,5.31,5.31,0,0,0,8.1,4.9,5.31,5.31,0,0,0,12,6.5,5.46,5.46,0,0,0,6.5,12Z\"/>\n",
              "  </svg>\n",
              "    </button>\n",
              "    <script>\n",
              "      (() => {\n",
              "      const buttonEl =\n",
              "        document.querySelector('#id_2f1df43f-a4c5-412e-a3ab-a05c1610f04a button.colab-df-generate');\n",
              "      buttonEl.style.display =\n",
              "        google.colab.kernel.accessAllowed ? 'block' : 'none';\n",
              "\n",
              "      buttonEl.onclick = () => {\n",
              "        google.colab.notebook.generateWithVariable('df');\n",
              "      }\n",
              "      })();\n",
              "    </script>\n",
              "  </div>\n",
              "\n",
              "    </div>\n",
              "  </div>\n"
            ],
            "application/vnd.google.colaboratory.intrinsic+json": {
              "type": "dataframe",
              "variable_name": "df",
              "summary": "{\n  \"name\": \"df\",\n  \"rows\": 1,\n  \"fields\": [\n    {\n      \"column\": \"Name\",\n      \"properties\": {\n        \"dtype\": \"string\",\n        \"num_unique_values\": 1,\n        \"samples\": [\n          \"celine\"\n        ],\n        \"semantic_type\": \"\",\n        \"description\": \"\"\n      }\n    },\n    {\n      \"column\": \"Residence\",\n      \"properties\": {\n        \"dtype\": \"string\",\n        \"num_unique_values\": 1,\n        \"samples\": [\n          \"toronto\"\n        ],\n        \"semantic_type\": \"\",\n        \"description\": \"\"\n      }\n    },\n    {\n      \"column\": \"Hobby\",\n      \"properties\": {\n        \"dtype\": \"string\",\n        \"num_unique_values\": 1,\n        \"samples\": [\n          \"singing\"\n        ],\n        \"semantic_type\": \"\",\n        \"description\": \"\"\n      }\n    }\n  ]\n}"
            }
          },
          "metadata": {},
          "execution_count": 70
        }
      ]
    },
    {
      "cell_type": "code",
      "source": [
        "# Let's add more data from other individuals now.\n",
        "text_two = 'My name is Hossam, I live in Barrie. I love hiking'\n",
        "text_three = 'My name is Darren, I live in Markham. I love painting'\n",
        "text_four = 'My name is Vincent, I live in Scarborough. I love hiking'\n",
        "text_five = 'My name is Oceane, I live in toronto. I love reading'\n",
        "text_six = 'My name is Myra, I live in Mississauga. I love hiking'\n",
        "text_seven = 'My name is Emily, I live in Toronto. I love hiking'\n",
        "\n",
        "# Include these texts into a list call list_of_text.\n",
        "list_of_text = [text_two, text_three, text_four, text_five, text_six, text_seven]\n",
        "\n",
        "print(len(list_of_text))\n",
        "print(list_of_text)"
      ],
      "metadata": {
        "colab": {
          "base_uri": "https://localhost:8080/"
        },
        "id": "a312GFABg9Kg",
        "outputId": "28c8707b-68b9-42b8-e1f3-a4f838be1da5"
      },
      "execution_count": null,
      "outputs": [
        {
          "output_type": "stream",
          "name": "stdout",
          "text": [
            "6\n",
            "['My name is Hossam, I live in Barrie. I love hiking', 'My name is Darren, I live in Markham. I love painting', 'My name is Vincent, I live in Scarborough. I love hiking', 'My name is Oceane, I live in toronto. I love reading', 'My name is Myra, I live in Mississauga. I love hiking', 'My name is Emily, I live in Toronto. I love hiking']\n"
          ]
        }
      ]
    },
    {
      "cell_type": "code",
      "source": [
        "# We are now going to create a for statement to iterate over list_of_text to\n",
        "# 1) clean the text using the function you created clean_text().\n",
        "# 2) extract the key insights using extract_info().\n",
        "# 3) create a DataFrame called 'df1'.\n",
        "# 4) concatenate the new information to 'df'.\n",
        "for x in list_of_text:\n",
        "  x = clean_text(x)\n",
        "  x = clean_stopwords(x)\n",
        "  extract_info(x)\n",
        "  df1 = pd.DataFrame({'Name':[name], 'Residence': [residence], 'Hobby':[hobby]})\n",
        "  df= pd.concat([df,df1], ignore_index=True)\n",
        "\n",
        "print(df)\n",
        "\n",
        "\n",
        "\n",
        "\n"
      ],
      "metadata": {
        "colab": {
          "base_uri": "https://localhost:8080/"
        },
        "id": "xcMeJOKwhPfr",
        "outputId": "e787dacb-57ee-462f-dd50-7d133645e2b0",
        "collapsed": true
      },
      "execution_count": null,
      "outputs": [
        {
          "output_type": "stream",
          "name": "stdout",
          "text": [
            "Name: hossam\n",
            "Residence: barrie\n",
            "Hobby: hiking\n",
            "Name: darren\n",
            "Residence: markham\n",
            "Hobby: painting\n",
            "Name: vincent\n",
            "Residence: scarborough\n",
            "Hobby: hiking\n",
            "Name: oceane\n",
            "Residence: toronto\n",
            "Hobby: reading\n",
            "Name: myra\n",
            "Residence: mississauga\n",
            "Hobby: hiking\n",
            "Name: emily\n",
            "Residence: toronto\n",
            "Hobby: hiking\n",
            "      Name    Residence     Hobby\n",
            "0   celine      toronto   singing\n",
            "1   hossam       barrie    hiking\n",
            "2   darren      markham  painting\n",
            "3  vincent  scarborough    hiking\n",
            "4   oceane      toronto   reading\n",
            "5     myra  mississauga    hiking\n",
            "6    emily      toronto    hiking\n"
          ]
        }
      ]
    },
    {
      "cell_type": "code",
      "source": [
        "text = 'My name is Celine, I live in Toronto. I LOOOVE singing. My phone number is 111-111-1111.'\n",
        "text_two = 'My name is Hossam, I live in Barrie. I love hiking. My cellphone number is 222-222-2222.'\n",
        "text_three = 'My name is Darren, I live in Markham. I love painting. You can reach out to me on this number 333-333-3333.'\n",
        "text_four = 'My name is Vincent, I live in Scarborough. I love hiking. 444-444-4444.'\n",
        "text_five = 'My name is Oceane, I live in toronto. I love reading. My number is 555-555-5555.'\n",
        "text_six = 'My name is Myra, I live in Mississauga. I love hiking. 666-666-6666.'\n",
        "text_seven = 'My name is Emily, I live in Toronto. I love hiking. You can reach out to me on this number 777-777-7777 on Tuesdays only.'\n",
        "\n",
        "list_of_text = [text, text_two, text_three, text_four, text_five, text_six, text_seven]\n",
        "\n",
        "# We want to include this new data in our DataFrame df. But this time, the data is messier.\n",
        "\n",
        "# However, we can see that the phone numbers follow the same pattern:\n",
        "# 3 digits + 1 hyphen + 3 digits + 1 hyphen + 4 digits.\n",
        "\n",
        "# Use a for statement to iterate over each text in 'list_of_text' to create a list that contains all the phone numbers.\n",
        "# Call the list 'list_phone_numbers'.\n",
        "\n",
        "# Create the empty list called  'list_phone_numbers'.\n",
        "list_phone_numbers = []\n",
        "\n",
        "for x in list_of_text:\n",
        "  phone = re.search('\\d{3}-\\d{3}-\\d{4}', x ).group()\n",
        "  list_phone_numbers.append(phone)\n",
        "\n",
        "df['Phone'] = list_phone_numbers\n",
        "\n",
        "print(df)\n"
      ],
      "metadata": {
        "id": "mWPFI3k3iOZ0",
        "colab": {
          "base_uri": "https://localhost:8080/"
        },
        "outputId": "cbebcc5d-53da-4628-f10b-d75ce61779b2"
      },
      "execution_count": null,
      "outputs": [
        {
          "output_type": "stream",
          "name": "stdout",
          "text": [
            "      Name    Residence     Hobby         Phone\n",
            "0   celine      toronto   singing  111-111-1111\n",
            "1   hossam       barrie    hiking  222-222-2222\n",
            "2   darren      markham  painting  333-333-3333\n",
            "3  vincent  scarborough    hiking  444-444-4444\n",
            "4   oceane      toronto   reading  555-555-5555\n",
            "5     myra  mississauga    hiking  666-666-6666\n",
            "6    emily      toronto    hiking  777-777-7777\n"
          ]
        }
      ]
    },
    {
      "cell_type": "code",
      "source": [
        "# Use matplotlib to plot two pie charts on the variables 'Residence' and 'Hobby'.\n",
        "# Import the library as plt.\n",
        "import matplotlib.pyplot as plt\n",
        "\n",
        "# Initialize the figure.\n",
        "fig = plt.figure(figsize=(9, 5))\n",
        "\n",
        "# Create the plot locations.\n",
        "# We want the plots to be next to each other in one row.\n",
        "ax1 = fig.add_subplot(1,2,1)\n",
        "ax2 = fig.add_subplot(1,2,2)\n",
        "\n",
        "colors_pie_1 = ['#4F6272', '#8EB127', '#B7C3F3', '#DD7596', '#8EB897']\n",
        "colors_pie_2 = ['#4F6272', '#B7C3F3', '#DD7596', '#8EB897']\n",
        "\n",
        "ax1.pie(x = list(df['Residence'].value_counts()),\n",
        "labels=df['Residence'].value_counts().index,\n",
        "colors=colors_pie_1,\n",
        "      # Set the width of the wedge border lines equal to 2.\n",
        "        # Set the edge colour to 'white'.\n",
        "wedgeprops={'linewidth': 2\n",
        ", 'edgecolor':'white'})\n",
        "\n",
        "ax1.set_title('Residence')\n",
        "\n",
        "ax2.pie(x=list(df['Hobby'].value_counts()),\n",
        "        labels=df['Hobby'].value_counts().index,\n",
        "        colors=colors_pie_2,\n",
        "        wedgeprops={'linewidth':2, 'edgecolor':'white'})\n",
        "\n",
        "ax2.set_title('Hobbies')\n",
        "\n",
        "plt.tight_layout()\n",
        "\n",
        "plt.show()"
      ],
      "metadata": {
        "colab": {
          "base_uri": "https://localhost:8080/",
          "height": 439
        },
        "id": "twUjiWCznFtu",
        "outputId": "ef432b82-2ff2-4493-9230-f3db1de4d6b1"
      },
      "execution_count": null,
      "outputs": [
        {
          "output_type": "display_data",
          "data": {
            "text/plain": [
              "<Figure size 900x500 with 2 Axes>"
            ],
            "image/png": "[encoded data removed]"
          },
          "metadata": {}
        }
      ]
    },
    {
      "cell_type": "code",
      "source": [],
      "metadata": {
        "id": "u4IZm1MuoQkb"
      },
      "execution_count": null,
      "outputs": []
    }
  ]
}